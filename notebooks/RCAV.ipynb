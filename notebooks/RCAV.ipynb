{
 "cells": [
  {
   "cell_type": "markdown",
   "id": "43700d4d",
   "metadata": {},
   "source": [
    "# Notebook to Calculate RCAV"
   ]
  },
  {
   "cell_type": "code",
   "execution_count": 39,
   "id": "afdf04e4",
   "metadata": {},
   "outputs": [],
   "source": [
    "import os\n",
    "import shutil\n",
    "import zipfile\n",
    "import tarfile\n",
    "import urllib\n",
    "import requests\n",
    "from pathlib import Path\n",
    "from tqdm import tqdm\n",
    "import h5py as h5"
   ]
  },
  {
   "cell_type": "code",
   "execution_count": 15,
   "id": "5c813369",
   "metadata": {},
   "outputs": [],
   "source": [
    "import numpy as np\n",
    "import awkward as ak\n",
    "import uproot\n",
    "import vector\n",
    "vector.register_awkward()"
   ]
  },
  {
   "cell_type": "code",
   "execution_count": 16,
   "id": "ec0649fe",
   "metadata": {},
   "outputs": [],
   "source": [
    "import matplotlib.pyplot as plt"
   ]
  },
  {
   "cell_type": "code",
   "execution_count": 38,
   "id": "c1e2d6a3",
   "metadata": {},
   "outputs": [
    {
     "name": "stderr",
     "output_type": "stream",
     "text": [
      "/Users/billyli/miniforge_x86_new/envs/weaver/lib/python3.7/site-packages/tqdm/auto.py:21: TqdmWarning: IProgress not found. Please update jupyter and ipywidgets. See https://ipywidgets.readthedocs.io/en/stable/user_install.html\n",
      "  from .autonotebook import tqdm as notebook_tqdm\n"
     ]
    }
   ],
   "source": [
    "import torch"
   ]
  },
  {
   "cell_type": "code",
   "execution_count": 17,
   "id": "8bb1463f",
   "metadata": {},
   "outputs": [
    {
     "data": {
      "text/plain": [
       "[PosixPath('/Users/billyli/scope/JetClass/minimal/HToCC_120.root'),\n",
       " PosixPath('/Users/billyli/scope/JetClass/minimal/WToQQ_120.root'),\n",
       " PosixPath('/Users/billyli/scope/JetClass/minimal/ZToQQ_120.root'),\n",
       " PosixPath('/Users/billyli/scope/JetClass/minimal/HToBB_120.root'),\n",
       " PosixPath('/Users/billyli/scope/JetClass/minimal/HToGG_120.root'),\n",
       " PosixPath('/Users/billyli/scope/JetClass/minimal/HToWW2Q1L_120.root'),\n",
       " PosixPath('/Users/billyli/scope/JetClass/minimal/TTBarLep_120.root'),\n",
       " PosixPath('/Users/billyli/scope/JetClass/minimal/TTBar_120.root'),\n",
       " PosixPath('/Users/billyli/scope/JetClass/minimal/ZJetsToNuNu_120.root'),\n",
       " PosixPath('/Users/billyli/scope/JetClass/minimal/HToWW4Q_120.root')]"
      ]
     },
     "execution_count": 17,
     "metadata": {},
     "output_type": "execute_result"
    }
   ],
   "source": [
    "root_dir = Path(\"/Users/billyli/scope/JetClass/minimal\")\n",
    "list(root_dir.glob('*.root'))"
   ]
  },
  {
   "cell_type": "code",
   "execution_count": 18,
   "id": "61b64e01",
   "metadata": {},
   "outputs": [
    {
     "data": {
      "text/plain": [
       "['HToCC', '120.root']"
      ]
     },
     "execution_count": 18,
     "metadata": {},
     "output_type": "execute_result"
    }
   ],
   "source": [
    "f = list(root_dir.glob('*.root'))[0]\n",
    "f.name.split('_')"
   ]
  },
  {
   "cell_type": "code",
   "execution_count": 19,
   "id": "f127cf36",
   "metadata": {},
   "outputs": [],
   "source": [
    "example_file_path = \"/Users/billyli/scope/JetClass/minimal/HtoBB_120.root\""
   ]
  },
  {
   "cell_type": "markdown",
   "id": "4b035971",
   "metadata": {},
   "source": [
    "## Get Jet Mass from Root Files"
   ]
  },
  {
   "cell_type": "code",
   "execution_count": 20,
   "id": "c8e68549",
   "metadata": {},
   "outputs": [],
   "source": [
    "def feature_to_numpy(tree, feature):\n",
    "    return tree[feature].arrays().to_numpy().astype(float)"
   ]
  },
  {
   "cell_type": "code",
   "execution_count": 74,
   "id": "1357ec6e",
   "metadata": {},
   "outputs": [],
   "source": [
    "jet_sdmass = {}\n",
    "for f in root_dir.glob('*.root'):\n",
    "    process = f.name.split('_')[0]\n",
    "    tree = uproot.open(f)['tree']\n",
    "    jet_sdmass[process] = feature_to_numpy(tree, 'jet_sdmass')"
   ]
  },
  {
   "cell_type": "code",
   "execution_count": 22,
   "id": "ea520fbb",
   "metadata": {},
   "outputs": [
    {
     "data": {
      "text/plain": [
       "{'HToCC': array([115.258255  , 111.84100342, 125.46985626, ..., 128.40882874,\n",
       "        135.57939148, 141.51844788]),\n",
       " 'WToQQ': array([72.61198425, 89.07801056, 76.53503418, ..., 76.12161255,\n",
       "        79.85035706, 83.38143921]),\n",
       " 'ZToQQ': array([ 84.99334717,  85.89722443,  80.36242676, ...,  94.44278717,\n",
       "         72.22348022, 111.22592163]),\n",
       " 'HToBB': array([236.60557556, 244.01182556, 113.34453583, ..., 125.35571289,\n",
       "         45.36766052, 131.21665955]),\n",
       " 'HToGG': array([122.22318268, 118.07779694, 120.23336029, ..., 120.01646423,\n",
       "        119.24666595, 154.14793396]),\n",
       " 'HToWW2Q1L': array([5.11340215e-04, 3.89420967e+01, 9.82005386e+01, ...,\n",
       "        1.09459663e+02, 7.13239441e+01, 4.06601868e+01]),\n",
       " 'TTBarLep': array([102.27770996,  74.19477081, 113.57976532, ..., 107.22871399,\n",
       "        129.00959778, 142.58552551]),\n",
       " 'TTBar': array([149.57839966,  80.48643494, 171.76864624, ..., 166.25233459,\n",
       "        176.77210999, 178.86199951]),\n",
       " 'ZJetsToNuNu': array([ 4.84817028,  7.31240273, 54.55735397, ..., 18.11897659,\n",
       "         0.13957   ,  3.62823057]),\n",
       " 'HToWW4Q': array([154.37501526,  92.24372864, 117.01184082, ..., 124.21831512,\n",
       "         51.69170761, 102.34901428])}"
      ]
     },
     "execution_count": 22,
     "metadata": {},
     "output_type": "execute_result"
    }
   ],
   "source": [
    "jet_sdmass"
   ]
  },
  {
   "cell_type": "code",
   "execution_count": 31,
   "id": "6c2e4af7",
   "metadata": {},
   "outputs": [
    {
     "data": {
      "text/plain": [
       "<matplotlib.legend.Legend at 0x7f9ca12f2e90>"
      ]
     },
     "execution_count": 31,
     "metadata": {},
     "output_type": "execute_result"
    },
    {
     "data": {
      "image/png": "[encoded data removed]",
      "text/plain": [
       "<Figure size 640x480 with 1 Axes>"
      ]
     },
     "metadata": {},
     "output_type": "display_data"
    }
   ],
   "source": [
    "for k, v in jet_sdmass.items():\n",
    "    plt.hist(v, label=k, bins=np.arange(0, 300, 1), density=True, histtype='step')\n",
    "plt.legend()"
   ]
  },
  {
   "cell_type": "code",
   "execution_count": 35,
   "id": "429660f6",
   "metadata": {},
   "outputs": [
    {
     "data": {
      "text/plain": [
       "(array([1.10637271e-02, 2.38171870e-02, 3.59269392e-02, 4.17203090e-02,\n",
       "        4.00305761e-02, 3.39958159e-02, 3.02844384e-02, 2.63216125e-02,\n",
       "        2.40686353e-02, 2.24291921e-02, 2.11015449e-02, 2.03572578e-02,\n",
       "        1.90899582e-02, 1.85971194e-02, 1.76617316e-02, 1.68068072e-02,\n",
       "        1.73298198e-02, 1.51371902e-02, 1.47650467e-02, 1.46544094e-02,\n",
       "        1.30551979e-02, 1.22907950e-02, 1.13352913e-02, 1.02590924e-02,\n",
       "        9.82660122e-03, 8.98173479e-03, 8.72022852e-03, 7.71443515e-03,\n",
       "        7.50321854e-03, 7.05061152e-03, 6.78910525e-03, 6.42701963e-03,\n",
       "        6.51754104e-03, 5.66261667e-03, 5.73302221e-03, 5.27035726e-03,\n",
       "        5.28041519e-03, 5.50168973e-03, 4.74734471e-03, 4.78757644e-03,\n",
       "        4.99879305e-03, 4.19415835e-03, 4.13381075e-03, 4.09357902e-03,\n",
       "        4.25450595e-03, 3.99299968e-03, 4.34502736e-03, 3.70131960e-03,\n",
       "        3.81195687e-03, 3.69126167e-03, 4.04328935e-03, 3.95276794e-03,\n",
       "        3.56050853e-03, 3.67114580e-03, 3.52027679e-03, 3.33923399e-03,\n",
       "        3.31911812e-03, 3.45992919e-03, 3.35934986e-03, 3.44987126e-03,\n",
       "        3.28894432e-03, 3.26882845e-03, 2.94697457e-03, 3.31911812e-03,\n",
       "        3.00732218e-03, 3.14813325e-03, 3.25877052e-03, 3.25877052e-03,\n",
       "        2.83633730e-03, 2.69552623e-03, 3.07772771e-03, 2.78604763e-03,\n",
       "        2.82627937e-03, 2.59494689e-03, 2.84639524e-03, 2.65529450e-03,\n",
       "        2.88662697e-03, 2.57483103e-03, 2.59494689e-03, 2.95703251e-03,\n",
       "        2.93691664e-03, 2.74581590e-03, 2.25297715e-03, 2.39378822e-03,\n",
       "        2.55471516e-03, 2.36361442e-03, 2.37367235e-03, 2.26303508e-03,\n",
       "        2.47425169e-03, 2.23286128e-03, 2.21274541e-03, 2.31332475e-03,\n",
       "        2.23286128e-03, 2.38373029e-03, 2.28315095e-03, 2.11216608e-03,\n",
       "        2.45413582e-03, 2.16245575e-03, 2.33344062e-03, 2.04176054e-03,\n",
       "        2.11216608e-03, 2.14233988e-03, 2.42396202e-03, 2.08199228e-03,\n",
       "        2.20268748e-03, 2.31332475e-03, 2.18257161e-03, 1.93112327e-03,\n",
       "        2.17251368e-03, 1.89089154e-03, 2.14233988e-03, 2.03170261e-03,\n",
       "        2.11216608e-03, 1.90094947e-03, 1.80037013e-03, 1.82048600e-03,\n",
       "        1.92106534e-03, 2.11216608e-03, 1.59921146e-03, 2.25297715e-03,\n",
       "        1.78025426e-03, 1.64950113e-03, 1.66961699e-03, 1.67967493e-03,\n",
       "        1.87077567e-03, 1.86071773e-03, 1.83054393e-03, 1.78025426e-03,\n",
       "        1.55897972e-03, 1.76013840e-03, 1.95123914e-03, 1.91100740e-03,\n",
       "        1.69979079e-03, 1.71990666e-03, 1.65955906e-03, 1.95123914e-03,\n",
       "        1.75008046e-03, 1.63944319e-03, 1.69979079e-03, 1.72996460e-03,\n",
       "        1.69979079e-03, 1.77019633e-03, 1.57909559e-03, 1.71990666e-03,\n",
       "        1.56903766e-03, 1.80037013e-03, 1.72996460e-03, 1.51874799e-03,\n",
       "        1.84060187e-03, 1.55897972e-03, 1.68973286e-03, 1.50869005e-03,\n",
       "        1.62938526e-03, 1.69979079e-03, 1.49863212e-03, 1.70984873e-03,\n",
       "        1.84060187e-03, 1.50869005e-03, 1.39805278e-03, 1.35782105e-03,\n",
       "        1.45840039e-03, 1.48857419e-03, 1.50869005e-03, 1.15666238e-03,\n",
       "        1.37793692e-03, 1.37793692e-03, 1.46845832e-03, 1.22706791e-03,\n",
       "        1.45840039e-03, 1.43828452e-03, 1.48857419e-03, 1.23712584e-03,\n",
       "        1.26729965e-03, 1.39805278e-03, 1.22706791e-03, 1.17677824e-03,\n",
       "        1.13654651e-03, 1.05608304e-03, 1.23712584e-03, 1.29747345e-03,\n",
       "        1.21700998e-03, 1.14660444e-03, 1.32764725e-03, 1.12648857e-03,\n",
       "        1.28741551e-03, 1.08625684e-03, 1.11643064e-03, 1.14660444e-03,\n",
       "        1.14660444e-03, 1.15666238e-03, 1.21700998e-03, 1.04602510e-03,\n",
       "        1.00579337e-03, 9.75619569e-04, 8.44866431e-04, 1.19689411e-03,\n",
       "        9.35387834e-04, 1.12648857e-03, 9.65561635e-04, 8.04634696e-04,\n",
       "        8.44866431e-04, 7.14113293e-04, 8.04634696e-04, 9.95735436e-04,\n",
       "        8.95156099e-04, 8.44866431e-04, 7.54345027e-04, 7.84518828e-04,\n",
       "        1.02590924e-03, 8.75040232e-04, 7.24171226e-04, 6.93997425e-04,\n",
       "        7.84518828e-04, 7.04055359e-04, 7.44287094e-04, 8.54924364e-04,\n",
       "        6.53765690e-04, 6.63823624e-04, 5.12954619e-04, 7.34229160e-04,\n",
       "        6.63823624e-04, 7.44287094e-04, 5.12954619e-04, 6.33649823e-04,\n",
       "        6.43707757e-04, 5.53186353e-04, 6.73881558e-04, 5.33070486e-04,\n",
       "        6.23591889e-04, 5.33070486e-04, 5.63244287e-04, 4.92838751e-04,\n",
       "        4.62664950e-04, 4.12375282e-04, 4.92838751e-04, 4.72722884e-04,\n",
       "        4.82780818e-04, 6.03476022e-04, 4.92838751e-04, 3.01738011e-04,\n",
       "        3.82201481e-04, 4.92838751e-04, 4.12375282e-04, 4.22433215e-04,\n",
       "        3.41969746e-04, 4.52607016e-04, 3.21853878e-04, 3.52027679e-04,\n",
       "        4.32491149e-04, 4.22433215e-04, 3.72143547e-04, 3.41969746e-04,\n",
       "        3.21853878e-04, 4.12375282e-04, 4.02317348e-04, 3.52027679e-04,\n",
       "        2.91680077e-04, 1.81042807e-04, 3.01738011e-04, 2.71564210e-04,\n",
       "        2.91680077e-04, 3.01738011e-04, 3.11795945e-04, 1.81042807e-04,\n",
       "        2.31332475e-04, 1.91100740e-04, 2.51448342e-04, 3.31911812e-04,\n",
       "        2.31332475e-04, 1.70984873e-04, 2.41390409e-04, 2.51448342e-04,\n",
       "        2.51448342e-04, 1.60926939e-04, 2.71564210e-04, 2.31332475e-04,\n",
       "        1.70984873e-04, 2.21274541e-04, 1.60926939e-04, 2.01158674e-04,\n",
       "        1.81042807e-04, 1.70984873e-04, 1.30753138e-04, 1.50869005e-04,\n",
       "        1.10637271e-04, 2.01158674e-04, 1.91100740e-04, 1.91100740e-04,\n",
       "        1.81042807e-04, 1.60926939e-04, 1.70984873e-04, 1.91100740e-04,\n",
       "        1.10637271e-04, 5.02896685e-05, 9.05214033e-05, 1.00579337e-04,\n",
       "        1.60926939e-04, 1.60926939e-04, 1.10637271e-04]),\n",
       " array([  0,   1,   2,   3,   4,   5,   6,   7,   8,   9,  10,  11,  12,\n",
       "         13,  14,  15,  16,  17,  18,  19,  20,  21,  22,  23,  24,  25,\n",
       "         26,  27,  28,  29,  30,  31,  32,  33,  34,  35,  36,  37,  38,\n",
       "         39,  40,  41,  42,  43,  44,  45,  46,  47,  48,  49,  50,  51,\n",
       "         52,  53,  54,  55,  56,  57,  58,  59,  60,  61,  62,  63,  64,\n",
       "         65,  66,  67,  68,  69,  70,  71,  72,  73,  74,  75,  76,  77,\n",
       "         78,  79,  80,  81,  82,  83,  84,  85,  86,  87,  88,  89,  90,\n",
       "         91,  92,  93,  94,  95,  96,  97,  98,  99, 100, 101, 102, 103,\n",
       "        104, 105, 106, 107, 108, 109, 110, 111, 112, 113, 114, 115, 116,\n",
       "        117, 118, 119, 120, 121, 122, 123, 124, 125, 126, 127, 128, 129,\n",
       "        130, 131, 132, 133, 134, 135, 136, 137, 138, 139, 140, 141, 142,\n",
       "        143, 144, 145, 146, 147, 148, 149, 150, 151, 152, 153, 154, 155,\n",
       "        156, 157, 158, 159, 160, 161, 162, 163, 164, 165, 166, 167, 168,\n",
       "        169, 170, 171, 172, 173, 174, 175, 176, 177, 178, 179, 180, 181,\n",
       "        182, 183, 184, 185, 186, 187, 188, 189, 190, 191, 192, 193, 194,\n",
       "        195, 196, 197, 198, 199, 200, 201, 202, 203, 204, 205, 206, 207,\n",
       "        208, 209, 210, 211, 212, 213, 214, 215, 216, 217, 218, 219, 220,\n",
       "        221, 222, 223, 224, 225, 226, 227, 228, 229, 230, 231, 232, 233,\n",
       "        234, 235, 236, 237, 238, 239, 240, 241, 242, 243, 244, 245, 246,\n",
       "        247, 248, 249, 250, 251, 252, 253, 254, 255, 256, 257, 258, 259,\n",
       "        260, 261, 262, 263, 264, 265, 266, 267, 268, 269, 270, 271, 272,\n",
       "        273, 274, 275, 276, 277, 278, 279, 280, 281, 282, 283, 284, 285,\n",
       "        286, 287, 288, 289, 290, 291, 292, 293, 294, 295, 296, 297, 298,\n",
       "        299]),\n",
       " [<matplotlib.patches.Polygon at 0x7f9cb11a4250>])"
      ]
     },
     "execution_count": 35,
     "metadata": {},
     "output_type": "execute_result"
    },
    {
     "data": {
      "image/png": "[encoded data removed]",
      "text/plain": [
       "<Figure size 640x480 with 1 Axes>"
      ]
     },
     "metadata": {},
     "output_type": "display_data"
    }
   ],
   "source": [
    "plt.hist(jet_sdmass['ZJetsToNuNu'], label='ZJetsToNuNu', bins=np.arange(0, 300, 1), density=True, histtype='step')"
   ]
  },
  {
   "cell_type": "code",
   "execution_count": 34,
   "id": "67da95b1",
   "metadata": {},
   "outputs": [
    {
     "data": {
      "text/plain": [
       "dict_keys(['HToCC', 'WToQQ', 'ZToQQ', 'HToBB', 'HToGG', 'HToWW2Q1L', 'TTBarLep', 'TTBar', 'ZJetsToNuNu', 'HToWW4Q'])"
      ]
     },
     "execution_count": 34,
     "metadata": {},
     "output_type": "execute_result"
    }
   ],
   "source": [
    "jet_sdmass.keys()"
   ]
  },
  {
   "cell_type": "code",
   "execution_count": 36,
   "id": "3db5bb90",
   "metadata": {},
   "outputs": [
    {
     "data": {
      "text/plain": [
       "100000"
      ]
     },
     "execution_count": 36,
     "metadata": {},
     "output_type": "execute_result"
    }
   ],
   "source": [
    "len(jet_sdmass['ZJetsToNuNu'])"
   ]
  },
  {
   "cell_type": "markdown",
   "id": "7bcffced",
   "metadata": {},
   "source": [
    "## Load the last class token"
   ]
  },
  {
   "cell_type": "code",
   "execution_count": 42,
   "id": "89decf41",
   "metadata": {},
   "outputs": [],
   "source": [
    "file = h5.File('/Users/billyli/scope/weaver-core/hidden_states_out.h5', 'r')"
   ]
  },
  {
   "cell_type": "code",
   "execution_count": null,
   "id": "ecd2074d",
   "metadata": {},
   "outputs": [
    {
     "name": "stdout",
     "output_type": "stream",
     "text": [
      "(1000, 128) [-9.45601799e-03  1.22203380e-02  2.84307487e-02 -1.99082382e-02\n",
      "  1.59450993e-03 -8.61203298e-03  3.56976651e-02 -6.01580217e-02\n",
      "  3.66006047e-03  1.55064277e-02  2.67313682e-02  1.27520561e-02\n",
      "  1.56713985e-02 -4.85546142e-03  5.21128252e-03 -1.01630501e-02\n",
      "  1.13054141e-02  3.21518071e-03  2.64167786e-03  1.99672207e-02\n",
      " -1.44301299e-02  1.17685907e-02  2.50978023e-03  2.76757851e-02\n",
      " -3.79446223e-02  7.55316205e-03 -1.36793405e-02 -2.47236043e-02\n",
      "  2.39202231e-02  1.93915367e-02  2.12223455e-03 -1.47989877e-02\n",
      "  1.40588805e-02  2.20588520e-02  3.82669196e-02  4.26998176e-02\n",
      "  2.18457654e-02 -6.01116568e-04  1.92084685e-02  2.66708434e-02\n",
      "  2.42214873e-02  1.42172575e-02 -7.81060662e-03  2.43043751e-02\n",
      "  2.30170004e-02  1.13242939e-02 -2.13183761e-02 -6.43969513e-03\n",
      "  9.16651636e-03  1.90542191e-02  8.49464536e-03  3.17084827e-02\n",
      "  1.90678015e-02 -1.84839740e-02 -1.05894022e-02 -1.18591674e-02\n",
      " -2.27166638e-02  1.78552717e-02 -6.74650073e-03  1.60766132e-02\n",
      " -2.64206007e-02 -3.13100219e-03  1.93233620e-02  8.22281837e-03\n",
      " -2.34487262e-02 -3.05267386e-02  8.78756866e-04  9.25767235e-03\n",
      " -1.71894953e-03  1.13224983e-02 -2.54254006e-02  2.95328796e-02\n",
      "  5.49133494e-03  6.10790960e-03 -3.94445695e-02  8.01806152e-03\n",
      "  3.77712399e-03  1.39041916e-02 -3.32294405e-03  3.49880010e-03\n",
      "  1.84350796e-02  7.81778619e-03  1.80546008e-03 -8.36103037e-03\n",
      "  2.32271086e-02  2.24267393e-02  2.53866594e-02  5.86992502e-03\n",
      " -1.02301631e-02 -2.01183688e-02  2.59488896e-02  2.51290686e-02\n",
      " -2.40905285e-02  3.48911174e-02  6.50500692e-03 -1.05113536e-03\n",
      "  5.27199358e-04 -1.51929809e-02  3.04831937e-02  5.34230098e-03\n",
      "  1.04363039e-02 -2.96128690e-02 -2.30296236e-02 -3.71615663e-02\n",
      " -3.57063562e-02 -5.86384349e-03 -8.63955729e-03 -3.09559964e-02\n",
      " -2.33427156e-03 -2.45340541e-02 -1.89423207e-02 -1.85919572e-02\n",
      " -9.38284304e-03 -2.50436552e-02  3.04584429e-02 -5.08113876e-02\n",
      " -7.72671700e-02 -2.15694755e-02 -1.36248618e-02 -5.13092354e-02\n",
      "  3.22908908e-03  3.47828120e-03 -3.70358163e-03  3.69242951e-02\n",
      " -1.12762954e-03 -1.40942410e-02 -1.42207975e-03 -2.90097110e-02\n",
      " -4.60483842e-02 -4.18365076e-02 -5.04791699e-02  2.16002557e-02\n",
      " -2.42964588e-02 -5.17267622e-02  1.62904095e-02 -2.16690022e-02\n",
      " -2.00645290e-02 -7.92953819e-02 -4.48972248e-02  2.28617191e-02\n",
      " -4.04141098e-02  1.28624355e-02  3.05898488e-03 -9.00323875e-03\n",
      " -1.92255080e-02 -2.45914534e-02 -4.54628505e-02  1.98059157e-02\n",
      " -9.90766101e-03  2.51548383e-02  1.43870059e-03 -5.87297529e-02\n",
      " -4.22631577e-02 -4.02481146e-02 -5.89474738e-02 -2.94620171e-02\n",
      " -4.25654054e-02 -1.52666289e-02  6.90425653e-03 -5.35682775e-03\n",
      " -5.67850620e-02 -1.17606670e-02 -3.81103978e-02 -2.41143871e-02\n",
      " -2.21278537e-02 -2.85150371e-02 -1.70307811e-02  7.18147587e-03\n",
      " -4.57087532e-03 -2.42804531e-02  1.59216486e-03 -1.07177533e-03\n",
      " -2.25736182e-02 -2.46875994e-02 -4.96470183e-02  2.23099831e-02\n",
      " -5.05339094e-02 -3.40401158e-02 -4.75114696e-02 -4.02000407e-03\n",
      " -6.04673997e-02 -3.27451825e-02 -6.98298588e-02 -7.92765245e-02\n",
      "  7.59413512e-03 -4.14182208e-02 -5.82157001e-02 -3.20779122e-02\n",
      " -2.70824693e-02 -1.95432231e-02  3.93971382e-03 -2.04739831e-02\n",
      "  8.98897182e-03 -3.44981179e-02 -1.57201588e-02  6.60778023e-04\n",
      "  4.37527476e-03 -7.00342655e-02 -5.79960598e-03  1.07264258e-02\n",
      " -9.44867283e-02 -6.67659342e-02 -7.63937458e-02 -5.59043065e-02\n",
      " -5.72676510e-02 -6.63429499e-02 -2.83884741e-02 -7.90775344e-02\n",
      "  2.18883343e-03 -4.01226878e-02 -4.28188220e-02 -4.11730856e-02\n",
      " -4.35939766e-02 -6.89253733e-02 -3.15122306e-02 -6.67908490e-02\n",
      " -2.77113728e-02 -2.16561705e-02 -7.29153678e-02 -4.95266914e-02\n",
      " -6.44512624e-02 -7.66188428e-02 -3.42988074e-02 -6.00945354e-02\n",
      " -9.85176302e-05 -3.29329446e-02 -7.29257762e-02 -5.56088686e-02\n",
      " -6.62977919e-02 -4.46309857e-02 -6.49522394e-02 -6.40779510e-02\n",
      " -7.28646815e-02 -4.84280139e-02 -6.34711832e-02 -6.34479150e-02\n",
      " -4.86821719e-02 -5.56193329e-02 -7.79253319e-02 -4.75216843e-02\n",
      " -6.94119632e-02 -8.00997838e-02 -2.86241509e-02 -8.16716403e-02\n",
      " -7.20118657e-02 -8.31489488e-02 -4.80616428e-02 -4.44717258e-02\n",
      " -5.89381345e-02 -5.77360131e-02 -3.25980447e-02 -8.54826197e-02\n",
      " -1.34445559e-02 -3.54815274e-02 -7.58106560e-02 -7.60989934e-02\n",
      " -5.04608415e-02 -5.76277152e-02 -6.62228763e-02 -3.32012624e-02\n",
      " -5.52717447e-02 -5.66031560e-02 -5.74073456e-02 -7.95128867e-02\n",
      " -3.28890830e-02 -6.55838102e-02 -6.76873773e-02 -8.24648216e-02\n",
      " -7.99174085e-02 -3.93143483e-02 -4.92464341e-02 -6.50106221e-02\n",
      " -6.46859109e-02 -7.59220123e-02 -5.53033501e-02 -6.00799099e-02\n",
      " -4.68358099e-02 -6.29333928e-02 -6.93848357e-02 -5.93097806e-02\n",
      " -7.53574669e-02 -5.29498346e-02 -4.63748947e-02 -6.19962923e-02\n",
      " -6.45852461e-02 -5.45139425e-02 -6.73691183e-02 -3.74503024e-02\n",
      " -6.25531897e-02 -4.89621498e-02 -6.97559863e-02 -6.64207637e-02\n",
      " -7.25278631e-02 -7.41692632e-02 -5.21435700e-02 -2.22466141e-02\n",
      " -8.02505016e-02 -6.96678162e-02 -6.62939698e-02 -7.35666379e-02\n",
      "  8.30254704e-02  6.51971847e-02  6.76648542e-02  4.82253991e-02\n",
      "  8.22809488e-02  5.79395071e-02  8.55843127e-02  6.22492097e-02\n",
      "  9.01669264e-02  5.81964068e-02  7.68274367e-02  7.45830983e-02\n",
      "  7.36427978e-02  8.43859315e-02  6.20843247e-02  8.45829099e-02\n",
      "  9.31834579e-02  5.61447218e-02  7.58840069e-02  7.49475509e-02\n",
      "  7.13323653e-02  6.51527643e-02  6.46821409e-02  3.80867422e-02\n",
      "  8.91872272e-02  1.05879366e-01  7.96901286e-02  3.95778194e-02\n",
      "  9.19500217e-02  8.86884406e-02  8.29479545e-02  9.17375460e-02\n",
      "  1.00626804e-01  5.35228327e-02  9.07136425e-02  8.91135857e-02\n",
      "  7.89487511e-02  5.83443902e-02  5.06772511e-02  8.92010629e-02\n",
      "  6.15532324e-02  6.90719336e-02  7.68762231e-02  7.24731833e-02\n",
      "  4.19649482e-02  7.58434981e-02  7.66951591e-02  4.89677377e-02\n",
      "  4.58601825e-02  8.11038092e-02  4.00121436e-02  9.06844139e-02\n",
      "  5.76828718e-02  4.44803312e-02  6.94764107e-02  6.13636784e-02\n",
      "  5.48869148e-02  5.91913685e-02  8.11555907e-02  7.42329881e-02\n",
      "  7.50021711e-02  8.07534605e-02  7.73021281e-02  4.45466712e-02\n",
      "  2.81190723e-02  5.02859429e-02  7.97222853e-02  8.36283714e-02\n",
      "  5.05505167e-02  8.51899981e-02  6.49068356e-02  5.30181304e-02\n",
      "  7.54936188e-02  3.79776694e-02  3.47144157e-02  8.95194784e-02\n",
      "  7.84537494e-02  7.92117417e-02  3.51587944e-02  8.38743001e-02\n",
      "  6.95265383e-02  6.97271228e-02  8.38354230e-02  7.14560673e-02\n",
      "  6.38855249e-02  8.22637379e-02  6.42873049e-02  6.17099553e-02\n",
      "  3.12896967e-02  6.13967367e-02  6.31550401e-02  7.11429119e-02\n",
      "  6.68573380e-02  7.21694231e-02  7.90129080e-02  6.47775084e-02\n",
      "  5.66077605e-02  6.34884164e-02  2.67594680e-02  5.18833697e-02\n",
      " -2.99136955e-02 -5.63064702e-02 -5.61224781e-02 -4.24062461e-02\n",
      " -5.08411750e-02 -6.29249960e-02 -1.48581825e-02 -4.47909534e-02\n",
      " -4.53627035e-02 -4.49835807e-02 -2.94635817e-02 -6.44111633e-02\n",
      " -3.50601971e-02 -4.75859493e-02 -5.02815694e-02 -4.87244576e-02\n",
      " -5.81298172e-02 -6.53930306e-02 -6.49758801e-02 -4.39243577e-02\n",
      " -7.80422837e-02 -5.25323488e-02 -3.64854746e-02 -7.02324137e-02\n",
      " -6.52950928e-02 -6.23191223e-02 -4.91051935e-02 -6.61300570e-02\n",
      " -3.86279374e-02 -7.00175613e-02 -5.22009470e-02 -7.58535862e-02\n",
      " -4.51783687e-02 -4.92029190e-02 -5.93277253e-02 -6.70526326e-02\n",
      " -6.22730255e-02 -4.14164662e-02 -3.76888327e-02 -7.20224455e-02\n",
      " -7.16921911e-02 -7.48552084e-02 -8.55663568e-02 -6.13464713e-02\n",
      " -4.97675799e-02 -6.38538748e-02 -6.20855615e-02 -4.79776859e-02\n",
      " -5.12529053e-02 -6.07595593e-02 -4.36885841e-02 -6.48247749e-02\n",
      " -7.16362000e-02 -5.33890650e-02 -5.47363535e-02 -7.42401481e-02\n",
      " -3.84771787e-02 -3.16839553e-02 -3.98157127e-02 -2.95142736e-02\n",
      " -5.57373017e-02 -7.86475763e-02 -6.47370219e-02 -5.39506227e-02\n",
      " -5.55294752e-02 -8.57619718e-02 -7.40657374e-02 -4.28343490e-02\n",
      " -7.00505599e-02 -6.05443902e-02 -2.98683532e-02 -6.79076836e-02\n",
      " -4.25769538e-02 -6.37376979e-02 -5.69659844e-02 -5.52957840e-02\n",
      " -5.16667217e-02 -4.36513089e-02 -9.20386165e-02 -8.62896144e-02\n",
      " -6.10952489e-02 -7.01347068e-02 -8.04625601e-02 -5.92508316e-02\n",
      " -6.29232898e-02 -4.07028422e-02 -5.73328473e-02 -4.67213392e-02\n",
      " -5.44760115e-02 -5.61340153e-02 -5.52402027e-02 -4.17349488e-02\n",
      " -5.66559657e-02 -8.00397694e-02  1.07431142e-02 -4.66930643e-02\n",
      " -4.71396856e-02 -4.64910083e-02 -2.96734739e-02 -1.89851318e-02\n",
      "  7.20152184e-02  6.87292814e-02  6.21809959e-02  5.76363727e-02\n",
      "  6.93089664e-02  5.67311607e-02  3.56179662e-02  6.10802136e-02\n",
      "  5.16489819e-02  5.60180023e-02  5.54505996e-02  5.15672192e-02\n",
      "  5.36115207e-02  8.38364214e-02  4.69037853e-02  5.73895313e-02\n",
      "  7.45887607e-02  6.07037246e-02  5.76563887e-02  5.54412231e-02\n",
      "  4.73077185e-02  5.90944663e-02  4.83176894e-02  7.26941973e-02\n",
      "  6.36165962e-02  6.14860021e-02  5.95786795e-02  5.97099364e-02\n",
      "  5.62601388e-02  5.44781536e-02  5.63626029e-02  7.12297261e-02\n",
      "  6.20283261e-02  5.36835082e-02  8.35560039e-02  5.58223650e-02\n",
      "  7.38701448e-02  3.58991921e-02  5.36767021e-02  4.99601513e-02\n",
      "  5.70073985e-02  5.96048832e-02  5.23831472e-02  5.82319759e-02\n",
      "  8.34483877e-02  5.77623993e-02  4.31253798e-02  5.07047251e-02\n",
      "  5.87157682e-02  7.49029592e-02  5.37014976e-02  4.90271822e-02\n",
      "  5.51098585e-02  6.75270930e-02  4.64521796e-02  5.01050726e-02\n",
      "  4.42869216e-02  6.22409768e-02  6.62340075e-02  5.50881103e-02\n",
      "  4.69397418e-02  5.98263480e-02  4.49690260e-02  7.10145906e-02\n",
      "  6.46403730e-02  5.07056378e-02  6.32301122e-02  5.95278069e-02\n",
      "  7.58254230e-02  5.18180281e-02  5.44204488e-02  7.33546317e-02\n",
      "  6.27565160e-02  7.58298039e-02  7.58637339e-02  7.30446279e-02\n",
      "  6.93983287e-02  4.18117419e-02  4.22239341e-02  4.47044894e-02\n",
      "  5.78114614e-02  7.42058903e-02  6.01249561e-02  6.41308650e-02\n",
      "  5.71347885e-02  6.35975972e-02  8.27733427e-02  4.39543501e-02\n",
      "  6.02306016e-02  4.38909382e-02  6.05895929e-02  4.61169705e-02\n",
      "  5.90408593e-02  7.05828443e-02  5.34504429e-02  6.44110069e-02\n",
      "  5.64921871e-02  6.37954399e-02  7.59646222e-02  4.35029157e-02\n",
      "  1.28356172e-02 -2.72840410e-02  3.72526422e-02  1.22510772e-02\n",
      "  3.04348078e-02  3.35113853e-02 -6.04510680e-03 -7.83537980e-04\n",
      " -6.43262267e-03  4.16642018e-02  2.67732702e-02 -1.53471958e-02\n",
      "  1.13955056e-02  2.45895050e-02  1.49702467e-03  1.75607949e-02\n",
      "  1.00837462e-03  6.95190765e-03  3.44162285e-02  3.59306335e-02\n",
      "  2.02579238e-03  3.22799422e-02  4.04612422e-02  5.03952522e-03\n",
      "  3.63764763e-02  2.16356087e-02  7.36343907e-03  2.41834745e-02\n",
      " -1.79773849e-02 -2.23862268e-02  8.82638805e-03  2.46389657e-02\n",
      "  1.30117200e-02  4.82138991e-02 -6.38083555e-03  4.44651581e-02\n",
      " -7.56251439e-03  2.74746865e-03  2.73395739e-02 -5.54191973e-03\n",
      "  3.55005637e-02  4.17266116e-02  4.97796722e-02  2.01937985e-02\n",
      "  2.81923339e-02  3.12928855e-02  4.08230461e-02  2.53365543e-02\n",
      " -1.57471076e-02  2.22937018e-03 -1.33252423e-02  7.19615072e-03\n",
      "  1.92709081e-02  2.59408541e-02  2.70436462e-02  3.62959020e-02\n",
      "  2.16318108e-02  1.37268361e-02  3.29488814e-02  2.45342590e-02\n",
      "  2.76764892e-02  9.06728674e-03  3.81271467e-02  1.96269285e-02\n",
      "  2.21818537e-02  1.23287356e-02  7.82495178e-03  3.14129237e-03\n",
      " -8.12327582e-03 -6.00981247e-03  1.06201228e-02  1.08029833e-03\n",
      "  1.77525505e-02 -1.55092347e-02  1.54672535e-02  4.05139476e-03\n",
      "  5.15516195e-03  2.18660422e-02  2.36892141e-02  2.76952004e-03\n",
      "  2.16911118e-02  1.78817343e-02  3.21822874e-02 -3.39732245e-02\n",
      "  9.62160528e-03  3.30016650e-02  2.49328390e-02 -1.29311606e-02\n",
      "  4.11328394e-03 -2.25440450e-02  1.77630223e-02  3.17427590e-02\n",
      "  2.14414746e-02  1.47696026e-03 -1.33713009e-02 -1.52625386e-02\n",
      " -5.55804931e-03  1.01382453e-02  1.83797851e-02  2.96172723e-02\n",
      "  2.51827808e-03 -5.91384294e-03  2.74016932e-02  2.58428399e-02\n",
      "  5.86252101e-03  1.70402825e-02  2.37164851e-02  8.35526735e-03\n",
      " -4.99848695e-03 -1.20744333e-02  4.05343845e-02 -1.00400299e-04\n",
      "  2.28826962e-02  2.69560181e-02  4.56396192e-02 -1.73992608e-02\n",
      "  3.87156941e-02  2.79836431e-02  5.57193868e-02  1.69905741e-02\n",
      " -1.90263223e-02  5.06580546e-02  2.05183104e-02  2.38589346e-02\n",
      "  8.86842143e-04  2.84530930e-02  3.75909545e-02  3.45261618e-02\n",
      "  4.93489299e-03  2.96948627e-02  2.28068605e-03  4.99532968e-02\n",
      "  9.74009745e-04 -3.76407523e-04  1.95248090e-02  6.08514100e-02\n",
      "  1.69325359e-02  3.79263572e-02 -1.67492125e-02 -3.49204391e-02\n",
      "  1.64137203e-02  1.59840863e-02  2.77318470e-02  2.06039064e-02\n",
      "  1.09862182e-02  5.53642921e-02 -1.71674881e-03  4.86957282e-02\n",
      "  4.06512544e-02  4.03479412e-02  1.74228344e-02  1.23009095e-02\n",
      "  3.50109413e-02  1.08930338e-02  5.73267555e-03 -2.85995398e-02\n",
      "  2.37533674e-02  3.29515710e-02  3.84435505e-02  1.19485389e-02\n",
      "  5.28605357e-02 -1.55222705e-02  1.25574861e-02  4.39428948e-02\n",
      "  5.20733893e-02  3.65813300e-02 -2.10772175e-03  5.81964757e-03\n",
      "  2.64442861e-02 -2.74833161e-02  2.87332684e-02  2.22891942e-03\n",
      "  1.36859100e-02  1.76307894e-02  3.50561440e-02  2.95933504e-02\n",
      "  5.39128557e-02  5.94920814e-02  7.15516787e-03  3.40401195e-02\n",
      "  1.36848111e-02  4.42672707e-02 -3.86309857e-03  4.41440530e-02\n",
      "  3.43246870e-02 -5.72968042e-03  3.54115292e-02  4.46584970e-02\n",
      "  5.33143058e-02 -6.54744729e-03  4.80320044e-02  2.87931748e-02\n",
      "  1.48364343e-02  6.33230656e-02 -2.96866745e-02  3.49694043e-02\n",
      "  2.67989598e-02 -3.58945131e-02  5.42139746e-02  4.96732518e-02\n",
      "  4.38829064e-02  4.16146293e-02 -9.80660878e-03  3.52154672e-02\n",
      "  5.37152495e-03  3.12911943e-02 -2.79575158e-02 -1.23577891e-02\n",
      " -3.89224011e-03  4.72030230e-03  2.32417304e-02 -6.63566031e-03\n",
      " -2.84648892e-02  1.23582054e-02  3.96229327e-03 -1.28127215e-02\n",
      "  3.72922756e-02  2.34544277e-02 -1.16580119e-03 -5.78596257e-03\n",
      "  3.76465470e-02 -1.41955111e-02 -1.21704265e-02  3.56226861e-02\n",
      "  3.84832397e-02 -2.86141783e-03  2.21064873e-02  1.21231535e-02\n",
      " -3.84349003e-02  4.61076014e-02  3.18655521e-02 -1.92804262e-03\n",
      "  3.06728110e-02 -2.31863186e-02  1.11089721e-02  8.71177670e-03\n",
      "  2.96795797e-02  2.61830352e-02 -7.58326892e-03 -4.66864891e-02\n",
      "  2.36984901e-03  3.17012742e-02 -3.82066369e-02  4.62600179e-02\n",
      " -1.94380842e-02  1.88300107e-02  3.19556110e-02 -5.57024498e-04\n",
      " -1.60344280e-02  4.26131561e-02  4.24992964e-02  3.20765451e-02\n",
      "  7.94344582e-04  5.18876640e-03  2.67116576e-02  4.61552944e-03\n",
      "  8.53514299e-03  1.57746300e-02 -1.59054101e-02  1.58174653e-02\n",
      "  1.36522474e-02  3.61683182e-02  4.73815911e-02  2.58494876e-02\n",
      " -1.74839292e-02 -8.91274586e-03  3.82768810e-02 -3.34568620e-02\n",
      "  1.39854671e-02 -2.54075583e-02  3.06320675e-02  2.73531489e-02\n",
      "  1.87657811e-02  2.43401397e-02  3.32551934e-02 -1.61731839e-02\n",
      " -4.00633141e-02 -1.23445773e-02 -3.37001756e-02 -5.44457436e-02\n",
      " -1.47793628e-03 -3.07159554e-02 -4.58282372e-03  3.03869024e-02\n",
      "  3.57507765e-02  9.42402892e-03 -4.54878248e-02 -1.66194607e-02\n",
      "  5.31624071e-03  2.33056080e-02  1.37513783e-02  6.02380186e-03\n",
      "  3.02958265e-02  1.58512518e-02  3.55908386e-02  1.62563547e-02\n",
      "  3.52827050e-02  3.09707541e-02 -1.08182132e-02  3.65895927e-02\n",
      " -3.80564928e-02  3.67816538e-02  1.73425451e-02 -1.11906175e-02\n",
      " -1.53374979e-02 -1.57681108e-02  5.76667767e-03  4.32242006e-02\n",
      "  7.30858594e-02  5.15119918e-02  1.66960899e-02  3.32236243e-03\n",
      "  4.84623238e-02 -2.89312229e-02 -1.80029385e-02 -2.03481708e-02\n",
      "  4.87653799e-02 -1.57393087e-02 -5.08704521e-02 -3.72287491e-03\n",
      "  5.25432415e-02  2.74048559e-02 -1.88959111e-02  1.46022085e-02\n",
      "  1.78620219e-04 -2.66830269e-02 -2.88094450e-02  4.64188680e-03\n",
      "  1.55712850e-02  4.25002426e-02 -1.42854797e-02  1.34454742e-02\n",
      " -9.64920409e-03  3.74781229e-02  2.65006013e-02  7.91447982e-03\n",
      "  3.81944552e-02  3.13243866e-02 -3.97534221e-02 -2.11793892e-02\n",
      " -6.38520066e-03 -1.98957883e-03  2.08305568e-02  2.80096587e-02\n",
      "  9.76801291e-03  5.14015835e-03  1.97364762e-02 -1.63902435e-02\n",
      "  6.21024519e-03  2.40715519e-02  4.81818616e-02  3.71353626e-02\n",
      "  3.29319127e-02  8.58768634e-03 -2.74153426e-02 -8.36266787e-04\n",
      "  2.96866968e-02  8.41430388e-03 -2.89864801e-02 -1.92997772e-02\n",
      "  4.59275320e-02  7.24935438e-03  6.39437046e-03  3.58601101e-02\n",
      "  3.84702981e-02 -2.06100792e-02 -1.23344380e-02  3.19188349e-02\n",
      "  2.47128904e-02 -3.56611684e-02  1.15595842e-02  3.26761007e-02\n",
      "  4.14432995e-02 -2.49630678e-02 -4.35677543e-02 -1.69470496e-02\n",
      "  1.71778612e-02  3.12366318e-02  3.41030918e-02 -1.88369416e-02\n",
      " -2.84794196e-02  3.68759455e-03  1.31889042e-02  9.56226420e-03\n",
      "  4.88632545e-02  4.68370989e-02 -2.70117410e-02  3.33810225e-02\n",
      "  5.28709032e-03 -1.30754942e-02  8.45932774e-03 -3.21335234e-02\n",
      "  2.19654925e-02  5.41754365e-02  1.23930117e-02  1.95485912e-02\n",
      "  1.47471931e-02 -1.79555304e-02 -6.86837174e-03 -8.76092911e-03] [0.45121157 0.56909716 0.5157641  0.49592346 0.6233634  0.6351867\n",
      " 0.5433742  0.4172379  0.56322587 0.5872145  0.42518526 0.41724548\n",
      " 0.6640537  0.5859943  0.68852293 0.23679465 0.6622295  0.55830574\n",
      " 0.67448455 0.6168757  0.6232467  0.66184545 0.6719513  0.62188166\n",
      " 0.41269153 0.5602766  0.5891982  0.3706533  0.6631887  0.521675\n",
      " 0.4797679  0.46822605 0.71741766 0.7235185  0.69632107 0.6834483\n",
      " 0.4872026  0.5103914  0.73162514 0.73892295 0.68320113 0.643108\n",
      " 0.5934487  0.7007992  0.570529   0.5758188  0.54256517 0.45197833\n",
      " 0.57425267 0.65264106 0.5004063  0.56739163 0.65453255 0.39900059\n",
      " 0.64230263 0.4107767  0.51764697 0.73312086 0.53641135 0.61773324\n",
      " 0.6136104  0.32670635 0.51029265 0.6277511  0.33631393 0.44115055\n",
      " 0.44432026 0.49961326 0.6185088  0.62340957 0.46496958 0.7229273\n",
      " 0.6473357  0.29859453 0.5147295  0.6502509  0.647076   0.61094075\n",
      " 0.62183344 0.67020154 0.59821254 0.7096597  0.38778323 0.64299107\n",
      " 0.4872212  0.6849232  0.46848762 0.54038334 0.42180976 0.40832245\n",
      " 0.680083   0.67527425 0.61873597 0.5403024  0.4981952  0.62709594\n",
      " 0.71791023 0.38372582 0.51051474 0.48357618 0.51234347 0.56642705\n",
      " 0.6594829  0.34302297 0.30794916 0.4851039  0.507615   0.3574182\n",
      " 0.519635   0.41775772 0.7056644  0.7298486  0.57302547 0.643145\n",
      " 0.5238379  0.35050756 0.4004881  0.4569663  0.5208886  0.24165848\n",
      " 0.44337815 0.36391976 0.48574528 0.34298936 0.518973   0.5284457\n",
      " 0.18971732 0.49665895 0.28120753 0.4859104  0.30990002 0.26614827\n",
      " 0.37105712 0.37015134 0.40783995 0.6983263  0.53471476 0.37631652\n",
      " 0.34407714 0.35413897 0.43313658 0.35040727 0.58998775 0.5926299\n",
      " 0.2875055  0.42654815 0.41866264 0.5568782  0.40854284 0.42759013\n",
      " 0.5136924  0.38248748 0.51701754 0.30928856 0.2866851  0.36102408\n",
      " 0.5909083  0.4245762  0.38852078 0.45563385 0.28213626 0.5938135\n",
      " 0.30917874 0.49018204 0.44312516 0.44378173 0.69858015 0.28790027\n",
      " 0.4153887  0.43628055 0.462847   0.582149   0.3923506  0.28498146\n",
      " 0.5568634  0.5072651  0.4801499  0.26913184 0.31508237 0.28174207\n",
      " 0.53907967 0.34279075 0.40808263 0.43053365 0.34523234 0.49645078\n",
      " 0.4028579  0.3315653  0.6027553  0.42469856 0.6316605  0.6282111\n",
      " 0.5753292  0.40344498 0.40065813 0.3511175  0.3964376  0.47847164\n",
      " 0.42384773 0.654092   0.57508874 0.33935922 0.44058418 0.35054433\n",
      " 0.38463306 0.3930355  0.25849107 0.4068435  0.22351432 0.220456\n",
      " 0.28562528 0.30683935 0.3706743  0.38192874 0.2848143  0.47401127\n",
      " 0.317634   0.6161933  0.36964145 0.29285577 0.41297793 0.41317645\n",
      " 0.31224605 0.3718415  0.3186411  0.291014   0.4326281  0.32847944\n",
      " 0.38872045 0.36008993 0.32633072 0.44148824 0.42786488 0.333803\n",
      " 0.3590975  0.3691001  0.3885903  0.28870043 0.49014917 0.3348076\n",
      " 0.38746735 0.41253287 0.30401906 0.4464364  0.41160277 0.51736975\n",
      " 0.30572793 0.39235294 0.33596188 0.30010253 0.30683926 0.46726435\n",
      " 0.2859756  0.365684   0.42910135 0.461125   0.31028628 0.41688585\n",
      " 0.33809656 0.2249915  0.3355606  0.34553117 0.30488196 0.36669517\n",
      " 0.2564021  0.48047584 0.4133552  0.4548277  0.44082427 0.22327758\n",
      " 0.3723614  0.3852359  0.351428   0.43277213 0.26924044 0.3973357\n",
      " 0.2748808  0.40465385 0.40735894 0.35965168 0.5224478  0.3319922\n",
      " 0.23137371 0.38467565 0.36529472 0.34959632 0.39332753 0.3665612\n",
      " 0.40098858 0.2445353  0.46366364 0.44432437 0.364262   0.47761697\n",
      " 0.33474955 0.559281   0.40466192 0.45666808 0.32207015 0.38941047\n",
      " 0.49839965 0.4515376  0.51374155 0.31750637 0.49945736 0.4886393\n",
      " 0.5365667  0.44558492 0.5030466  0.36840755 0.46576536 0.54712147\n",
      " 0.4694912  0.5276181  0.43192133 0.50000507 0.54556113 0.47744343\n",
      " 0.37968633 0.5480148  0.46899307 0.38139477 0.5022532  0.32763606\n",
      " 0.6136353  0.5700769  0.46967208 0.3335846  0.549129   0.5434113\n",
      " 0.55785006 0.48802432 0.60390973 0.45265713 0.5231408  0.60303724\n",
      " 0.5453392  0.37144876 0.3832037  0.58815694 0.4222012  0.453624\n",
      " 0.526838   0.46805307 0.40391976 0.5006196  0.5312619  0.4245309\n",
      " 0.39098647 0.5839513  0.33396626 0.49464434 0.44739255 0.40228024\n",
      " 0.53346467 0.394294   0.6014026  0.31503472 0.5360024  0.43660182\n",
      " 0.45955253 0.4932941  0.46257156 0.31696358 0.4061611  0.39795038\n",
      " 0.557207   0.48445997 0.4463429  0.54695725 0.39064062 0.4199469\n",
      " 0.45532092 0.39436406 0.3813602  0.5018815  0.4167309  0.46152875\n",
      " 0.35972983 0.5494603  0.44923738 0.5487751  0.52070904 0.46286377\n",
      " 0.38613462 0.48283985 0.44626024 0.5068252  0.42951167 0.36900586\n",
      " 0.41291258 0.42759293 0.4881878  0.5743986  0.57835    0.4618092\n",
      " 0.38125336 0.48367095 0.32253397 0.43016666 0.32544824 0.2869822\n",
      " 0.353887   0.33503115 0.3764756  0.4610151  0.39318845 0.39783022\n",
      " 0.22956686 0.46981192 0.34035364 0.4918152  0.22379953 0.3019283\n",
      " 0.27897078 0.36183777 0.38329953 0.37808394 0.35693258 0.23685485\n",
      " 0.43117478 0.32411644 0.27110377 0.38695696 0.37593427 0.2977078\n",
      " 0.29814768 0.42438254 0.25440046 0.3945361  0.39554837 0.46046832\n",
      " 0.38372204 0.25797406 0.30114043 0.47935706 0.37396145 0.33599094\n",
      " 0.40313697 0.41996005 0.36737838 0.4336267  0.44689572 0.40052077\n",
      " 0.29282793 0.328169   0.38561112 0.24877197 0.2702155  0.39509016\n",
      " 0.3129481  0.31890672 0.40709174 0.41781282 0.41543916 0.34784722\n",
      " 0.33517298 0.28104696 0.27091005 0.3402018  0.37483558 0.38351882\n",
      " 0.3435646  0.3920743  0.34090182 0.45117882 0.53248227 0.31900728\n",
      " 0.3309715  0.30119735 0.3364304  0.43155754 0.30056545 0.3263182\n",
      " 0.33039027 0.36938903 0.40003595 0.4239827  0.5298151  0.50128853\n",
      " 0.354755   0.3520722  0.41630423 0.3735778  0.34707966 0.35217848\n",
      " 0.2918395  0.2793063  0.315316   0.35033116 0.4829676  0.29957125\n",
      " 0.32839474 0.4162211  0.2618895  0.30597782 0.3246755  0.314906\n",
      " 0.34444386 0.3444475  0.6928752  0.6383602  0.7446795  0.5523355\n",
      " 0.60057056 0.6586656  0.4889068  0.5475255  0.5675971  0.69364774\n",
      " 0.5919333  0.5025093  0.66747355 0.5823196  0.48689976 0.44657713\n",
      " 0.59463954 0.5051842  0.66392034 0.62748766 0.4473924  0.4347503\n",
      " 0.36925447 0.60879415 0.6831985  0.5443495  0.45168307 0.44284737\n",
      " 0.46494284 0.72266525 0.50761074 0.5350412  0.57070035 0.46724436\n",
      " 0.6807382  0.50533825 0.5476121  0.5918909  0.45978865 0.5884798\n",
      " 0.5393697  0.64143276 0.5625667  0.51902336 0.6557729  0.6839666\n",
      " 0.49738446 0.53179616 0.6126051  0.66419697 0.54466283 0.6078831\n",
      " 0.62085533 0.71193796 0.59341615 0.53143305 0.6768577  0.62963706\n",
      " 0.5564449  0.42722687 0.5240773  0.71562546 0.41066787 0.6031851\n",
      " 0.56019497 0.43160382 0.56541604 0.5348392  0.42756712 0.43287376\n",
      " 0.6587621  0.50666183 0.62329644 0.6472932  0.595192   0.60765165\n",
      " 0.55090433 0.563568   0.43311912 0.43759996 0.6000489  0.65333277\n",
      " 0.5344611  0.5685143  0.6132191  0.6112104  0.51403743 0.42763203\n",
      " 0.44347626 0.55464566 0.5869617  0.52048206 0.6775283  0.6018944\n",
      " 0.56070787 0.5154262  0.57954276 0.546632   0.61851203 0.32190734\n",
      " 0.51582754 0.28158537 0.6178414  0.41082186 0.5582705  0.5902256\n",
      " 0.38898247 0.3075699  0.37297705 0.5688945  0.44439036 0.3113576\n",
      " 0.44903022 0.54395294 0.4007937  0.3936345  0.43433523 0.41285735\n",
      " 0.5191824  0.4082932  0.3504203  0.56749094 0.5484894  0.34353077\n",
      " 0.6093042  0.48078975 0.48053968 0.46404383 0.32151297 0.30118233\n",
      " 0.35004002 0.48090574 0.47092706 0.33676723 0.40091047 0.41703373\n",
      " 0.45137715 0.39016363 0.47548255 0.31878015 0.59965926 0.6186615\n",
      " 0.6628414  0.4970462  0.5745604  0.5321131  0.5392339  0.44279453\n",
      " 0.3052757  0.37837785 0.24350682 0.30121666 0.37382138 0.48789272\n",
      " 0.46130958 0.47153974 0.30843943 0.45020616 0.49449554 0.60150725\n",
      " 0.6091754  0.40218508 0.61580634 0.4599572  0.4495833  0.44954357\n",
      " 0.38002962 0.31449443 0.39140192 0.28250292 0.45821068 0.31972492\n",
      " 0.5357951  0.27982745 0.453545   0.36594364 0.42997926 0.47637275\n",
      " 0.5536464  0.44774693 0.5044253  0.47891825 0.52948254 0.36010244\n",
      " 0.48822916 0.50449187 0.49996033 0.32310912 0.4262789  0.3135964\n",
      " 0.51611257 0.46603236 0.4704794  0.38171452 0.30699214 0.34469828\n",
      " 0.35385475 0.44426143 0.56899476 0.53205734 0.38234475 0.29336318\n",
      " 0.35899004 0.3917687  0.31503856 0.3790548  0.33470064 0.24358821\n",
      " 0.3370543  0.29007417 0.41285312 0.22436509 0.40500388 0.26771176\n",
      " 0.44611105 0.3298297  0.3886236  0.36839747 0.4650687  0.32430398\n",
      " 0.2905504  0.45540985 0.38532868 0.31185377 0.3445091  0.36915797\n",
      " 0.33225206 0.4428862  0.37657547 0.3417279  0.3542993  0.42941466\n",
      " 0.3024399  0.36193594 0.4361149  0.49944785 0.39276102 0.42239007\n",
      " 0.22185774 0.3963699  0.2689921  0.36996523 0.3659687  0.3927352\n",
      " 0.28630853 0.4836561  0.24037474 0.4281359  0.46757853 0.3951716\n",
      " 0.37802023 0.3856019  0.37148833 0.346851   0.2915977  0.32602626\n",
      " 0.4117516  0.37013534 0.389935   0.32461628 0.48533642 0.2114413\n",
      " 0.4438544  0.43730557 0.4624454  0.38778552 0.37748918 0.38474727\n",
      " 0.36266038 0.2921035  0.40105343 0.3751096  0.36706775 0.39002234\n",
      " 0.47022033 0.39147326 0.4713442  0.3842009  0.33968937 0.4959733\n",
      " 0.29533887 0.48904425 0.31497273 0.44969016 0.4248745  0.3253467\n",
      " 0.38889715 0.4253525  0.48218018 0.36668766 0.35366523 0.28050354\n",
      " 0.39469948 0.3413541  0.33075705 0.42895934 0.3842161  0.36210227\n",
      " 0.49800897 0.45500973 0.66966414 0.6627652  0.30832088 0.6293545\n",
      " 0.35425186 0.6824242  0.34614658 0.41778836 0.40417284 0.438886\n",
      " 0.48618758 0.2665556  0.28485563 0.48766294 0.36122853 0.43889308\n",
      " 0.52458274 0.44519183 0.381261   0.33480006 0.6763628  0.24904694\n",
      " 0.4571945  0.5193315  0.50278014 0.4458659  0.4557533  0.47707874\n",
      " 0.30866626 0.50245863 0.3578578  0.34392682 0.5377782  0.2002295\n",
      " 0.43083584 0.48741508 0.4491782  0.50564426 0.35180372 0.29849413\n",
      " 0.35748065 0.5827601  0.24154302 0.5847048  0.20294227 0.38337624\n",
      " 0.38154688 0.32925022 0.29919484 0.55435205 0.5741347  0.4924077\n",
      " 0.48964724 0.4246342  0.63998324 0.3580693  0.45275012 0.4159084\n",
      " 0.2878731  0.4552585  0.4716405  0.460445   0.74892247 0.34846002\n",
      " 0.3831168  0.40282416 0.55666256 0.28519797 0.36511472 0.319449\n",
      " 0.43849084 0.58461773 0.39736393 0.5096373  0.6291458  0.3077716\n",
      " 0.25419924 0.41020957 0.22838756 0.2963562  0.40187275 0.3194558\n",
      " 0.169724   0.66564775 0.64640266 0.43835753 0.3140757  0.4288271\n",
      " 0.3930115  0.40669307 0.50056773 0.2827444  0.5172532  0.5642723\n",
      " 0.46236208 0.31120777 0.58201516 0.57079786 0.31070223 0.6192002\n",
      " 0.40506697 0.45633286 0.39608923 0.31386214 0.32904476 0.21250236\n",
      " 0.41141468 0.39399576 0.6340153  0.42342547 0.4746861  0.51359\n",
      " 0.6104967  0.39465308 0.42902207 0.33811983 0.44138867 0.23550057\n",
      " 0.33039504 0.2821616  0.50939727 0.40220553 0.39785787 0.44204414\n",
      " 0.32622316 0.3487324  0.3444991  0.21575245 0.6057966  0.5235448\n",
      " 0.25815314 0.40169856 0.29155344 0.46572685 0.66118485 0.41529346\n",
      " 0.41198197 0.38214314 0.3255716  0.26455948 0.44910806 0.42163852\n",
      " 0.44146198 0.43336073 0.38498592 0.45064363 0.5797237  0.48895583\n",
      " 0.441154   0.62102336 0.64936554 0.57029444 0.50070006 0.4212484\n",
      " 0.34180212 0.42530382 0.43431553 0.47127497 0.3571753  0.3999973\n",
      " 0.48855942 0.30268115 0.39746648 0.65080047 0.3767653  0.41513187\n",
      " 0.44738665 0.7061634  0.4039455  0.34847453 0.39230877 0.53104234\n",
      " 0.55845654 0.35291746 0.26205483 0.53860617 0.6775672  0.42195615\n",
      " 0.67870766 0.4395388  0.3708323  0.37184146 0.56893384 0.4650026\n",
      " 0.47409534 0.7311509  0.38640583 0.52707314 0.39415824 0.3273464\n",
      " 0.3243413  0.18252957 0.6261396  0.51875275 0.45506775 0.58573353\n",
      " 0.4443248  0.28792626 0.34064248 0.36891088]\n"
     ]
    }
   ],
   "source": [
    "X = np.array(file['hidden_11'][:]).squeeze(1)\n",
    "print(X.shape, X.mean(axis=1), X.std(axis=1))"
   ]
  },
  {
   "cell_type": "markdown",
   "id": "656e7bc8",
   "metadata": {},
   "source": [
    "## Linear Regression to get the coefficient vector"
   ]
  },
  {
   "cell_type": "code",
   "execution_count": 75,
   "id": "64528f96",
   "metadata": {},
   "outputs": [],
   "source": [
    "jet_sdmass_all_list = list(jet_sdmass.values())\n",
    "jet_sdmass_all_list = [x[..., np.newaxis] for x in jet_sdmass_all_list]\n",
    "jet_sdmass_all = np.concatenate(jet_sdmass_all_list, axis=1)\n",
    "y_tensor = torch.tensor(jet_sdmass_all)"
   ]
  },
  {
   "cell_type": "code",
   "execution_count": 61,
   "id": "89d06666",
   "metadata": {},
   "outputs": [
    {
     "name": "stderr",
     "output_type": "stream",
     "text": [
      "/Users/billyli/miniforge_x86_new/envs/weaver/lib/python3.7/site-packages/ipykernel_launcher.py:1: UserWarning: To copy construct from a tensor, it is recommended to use sourceTensor.clone().detach() or sourceTensor.clone().detach().requires_grad_(True), rather than torch.tensor(sourceTensor).\n",
      "  \"\"\"Entry point for launching an IPython kernel.\n"
     ]
    }
   ],
   "source": [
    "X_tensor = torch.tensor(X)\n",
    "X_tensor = torch.cat([X_tensor, torch.ones(X_tensor.size(0), 1)], dim=1)"
   ]
  },
  {
   "cell_type": "code",
   "execution_count": 76,
   "id": "e055adee",
   "metadata": {},
   "outputs": [
    {
     "ename": "RuntimeError",
     "evalue": "mat1 and mat2 shapes cannot be multiplied (130x1000 and 100000x10)",
     "output_type": "error",
     "traceback": [
      "\u001b[0;31m---------------------------------------------------------------------------\u001b[0m",
      "\u001b[0;31mRuntimeError\u001b[0m                              Traceback (most recent call last)",
      "\u001b[0;32m/var/folders/lf/yggx1zv12tz2k1d1xnx1g6q00000gn/T/ipykernel_77463/1337687124.py\u001b[0m in \u001b[0;36m<module>\u001b[0;34m\u001b[0m\n\u001b[0;32m----> 1\u001b[0;31m \u001b[0mw_tensor\u001b[0m \u001b[0;34m=\u001b[0m \u001b[0mtorch\u001b[0m\u001b[0;34m.\u001b[0m\u001b[0mlinalg\u001b[0m\u001b[0;34m.\u001b[0m\u001b[0mpinv\u001b[0m\u001b[0;34m(\u001b[0m\u001b[0mX_tensor\u001b[0m\u001b[0;34m.\u001b[0m\u001b[0mT\u001b[0m \u001b[0;34m@\u001b[0m \u001b[0mX_tensor\u001b[0m\u001b[0;34m)\u001b[0m \u001b[0;34m@\u001b[0m \u001b[0;34m(\u001b[0m\u001b[0mX_tensor\u001b[0m\u001b[0;34m.\u001b[0m\u001b[0mT\u001b[0m \u001b[0;34m@\u001b[0m \u001b[0my_tensor\u001b[0m\u001b[0;34m)\u001b[0m\u001b[0;34m\u001b[0m\u001b[0;34m\u001b[0m\u001b[0m\n\u001b[0m",
      "\u001b[0;31mRuntimeError\u001b[0m: mat1 and mat2 shapes cannot be multiplied (130x1000 and 100000x10)"
     ]
    }
   ],
   "source": [
    "w_tensor = torch.linalg.pinv(X_tensor.T @ X_tensor) @ (X_tensor.T @ y_tensor)"
   ]
  },
  {
   "cell_type": "code",
   "execution_count": 65,
   "id": "24150e91",
   "metadata": {},
   "outputs": [
    {
     "data": {
      "text/plain": [
       "torch.Size([1000, 130])"
      ]
     },
     "execution_count": 65,
     "metadata": {},
     "output_type": "execute_result"
    }
   ],
   "source": [
    "X_tensor.shape"
   ]
  },
  {
   "cell_type": "code",
   "execution_count": 68,
   "id": "429d3f57",
   "metadata": {},
   "outputs": [
    {
     "data": {
      "text/plain": [
       "[array([115.258255  , 111.84100342, 125.46985626, ..., 128.40882874,\n",
       "        135.57939148, 141.51844788]),\n",
       " array([72.61198425, 89.07801056, 76.53503418, ..., 76.12161255,\n",
       "        79.85035706, 83.38143921]),\n",
       " array([ 84.99334717,  85.89722443,  80.36242676, ...,  94.44278717,\n",
       "         72.22348022, 111.22592163]),\n",
       " array([236.60557556, 244.01182556, 113.34453583, ..., 125.35571289,\n",
       "         45.36766052, 131.21665955]),\n",
       " array([122.22318268, 118.07779694, 120.23336029, ..., 120.01646423,\n",
       "        119.24666595, 154.14793396]),\n",
       " array([5.11340215e-04, 3.89420967e+01, 9.82005386e+01, ...,\n",
       "        1.09459663e+02, 7.13239441e+01, 4.06601868e+01]),\n",
       " array([102.27770996,  74.19477081, 113.57976532, ..., 107.22871399,\n",
       "        129.00959778, 142.58552551]),\n",
       " array([149.57839966,  80.48643494, 171.76864624, ..., 166.25233459,\n",
       "        176.77210999, 178.86199951]),\n",
       " array([ 4.84817028,  7.31240273, 54.55735397, ..., 18.11897659,\n",
       "         0.13957   ,  3.62823057]),\n",
       " array([154.37501526,  92.24372864, 117.01184082, ..., 124.21831512,\n",
       "         51.69170761, 102.34901428])]"
      ]
     },
     "execution_count": 68,
     "metadata": {},
     "output_type": "execute_result"
    }
   ],
   "source": [
    "list(jet_sdmass.values())"
   ]
  },
  {
   "cell_type": "code",
   "execution_count": 78,
   "id": "400ee75c",
   "metadata": {},
   "outputs": [
    {
     "data": {
      "text/plain": [
       "10"
      ]
     },
     "execution_count": 78,
     "metadata": {},
     "output_type": "execute_result"
    }
   ],
   "source": [
    "len(jet_sdmass_all_list)"
   ]
  },
  {
   "cell_type": "code",
   "execution_count": null,
   "id": "3340c74c",
   "metadata": {},
   "outputs": [],
   "source": []
  }
 ],
 "metadata": {
  "kernelspec": {
   "display_name": "weaver",
   "language": "python",
   "name": "python3"
  },
  "language_info": {
   "codemirror_mode": {
    "name": "ipython",
    "version": 3
   },
   "file_extension": ".py",
   "mimetype": "text/x-python",
   "name": "python",
   "nbconvert_exporter": "python",
   "pygments_lexer": "ipython3",
   "version": "3.7.16"
  }
 },
 "nbformat": 4,
 "nbformat_minor": 5
}
